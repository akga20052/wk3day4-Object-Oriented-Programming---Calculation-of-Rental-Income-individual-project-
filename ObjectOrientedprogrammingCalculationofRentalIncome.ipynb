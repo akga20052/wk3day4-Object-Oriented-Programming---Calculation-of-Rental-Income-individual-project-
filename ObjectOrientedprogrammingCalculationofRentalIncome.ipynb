{
 "cells": [
  {
   "cell_type": "markdown",
   "metadata": {},
   "source": [
    "# RENTAL INCOME SHEET\n",
    "INCOME\n",
    "Rental Income- 2,000\n",
    "Laundry- 0.00\n",
    "Storage - 0.00\n",
    "Total Monthly Income- 1,200 \n",
    "\n",
    "\n",
    "EXPENSES\n",
    "Property tax- 100 (once a year)\n",
    "Property Insurance- 150 (once a year)\n",
    "Utilities\n",
    "-Water - 80.00 \n",
    "-Electric- 340.00\n",
    "-Garbage- 75.00 \n",
    "-Gas- 90.00\n",
    "HOA- 199.00\n",
    "Lawncare- 60.00\n",
    "Internet- 80\n",
    "Total Monthly Expenses = 1,174\n",
    "Total Annual Expeneses = 14,088\n",
    "\n",
    "\n",
    "CASH FLOW\n",
    "Income- 2,000\n",
    "Expense- 1,174\n",
    "Monthly Cash Flow- 2,000 - 1,174 = 826\n",
    "\n",
    "\n",
    "CASH ON CASH ROI\n",
    "Downpayment- 40,000\n",
    "Closing Cost- 3,000\n",
    "Rehab Budget- 7,000\n",
    "Misc. other- 0.00\n",
    "Total Investment- 50,000\n",
    "\n",
    "\n",
    "Annual Cash Flow \n",
    "826 X 12 = 9,912/ 50,000 (total investment)= 0.19824(19.8%) Cash on cash ROI "
   ]
  },
  {
   "cell_type": "code",
   "execution_count": 15,
   "metadata": {},
   "outputs": [
    {
     "name": "stdout",
     "output_type": "stream",
     "text": [
      "ROI:45.65%\n"
     ]
    }
   ],
   "source": [
    "# Calcuating for a year (used the information above that I provided for you as in example)\n",
    "# you can change the numbers in this format to make it your own\n",
    "\n",
    "Investment =50000\n",
    "rent = 2000\n",
    "expense = 1174\n",
    "\n",
    "class Investment:\n",
    "    def __init__(self, investment, rent, expense):\n",
    "        self.investment = investment\n",
    "        self.rent = rent\n",
    "        self.expense = expense\n",
    "\n",
    "    def calculate_roi(self):\n",
    "        net_profit = self.rent * 12 - self.expense\n",
    "        roi = (net_profit / self.investment) * 100\n",
    "        return roi    \n",
    "\n",
    "investment = Investment(50000, 2000, 1174)\n",
    "roi = investment.calculate_roi()\n",
    "print(f\"ROI:{roi:.2f}%\")\n",
    "\n"
   ]
  },
  {
   "cell_type": "code",
   "execution_count": 40,
   "metadata": {},
   "outputs": [
    {
     "name": "stdout",
     "output_type": "stream",
     "text": [
      "Welcome to the Future Value Calculator\n",
      "\n",
      "  0 50000.0   \n",
      "  1 59900.0   \n",
      "  2 71760.2   \n",
      "  3 85968.72  \n",
      "  4 102990.53 \n",
      "  5 123382.65 \n",
      "  6 147812.41 \n",
      "  7 177079.27 \n",
      "  8 212140.97 \n",
      "  9 254144.88 \n",
      " 10 304465.57 \n",
      " 11 364749.75 \n",
      " 12 436970.2  \n",
      " 13 523490.3  \n",
      " 14 627141.38 \n",
      " 15 751315.37 \n",
      " 16 900075.82 \n",
      " 17 1078290.83\n",
      " 18 1291792.41\n",
      " 19 1547567.31\n",
      " 20 1853985.64\n",
      " 21 2221074.79\n",
      " 22 2660847.6 \n",
      " 23 3187695.43\n",
      " 24 3818859.12\n",
      " 25 4574993.23\n",
      " 26 5480841.89\n",
      " 27 6566048.58\n",
      " 28 7866126.2 \n",
      " 29 9423619.19\n",
      " 30 11289495.79\n"
     ]
    }
   ],
   "source": [
    "# Calcuating for a 10 years (used the information above that I provided for you as in example)\n",
    "# you can change the numbers in this format to make it your own\n",
    "\n",
    "def calculate_future_values(investment, interest_rate, years):\n",
    "    future_values = [investment * (1 + interest_rate) ** i  for i in range(years + 1)]\n",
    "    return future_values\n",
    "    \n",
    "def format_intrest(t):\n",
    "    return \"{:>3} {:<10}\".format(t[0], round(t[1], 2))\n",
    "    \n",
    "def display_future_values(investment, interest_rate, years):\n",
    "    future_values = calculate_future_values(investment, interest_rate, years)\n",
    "    formatted_interests = map(format_intrest, enumerate(future_values))\n",
    "    return \"\\n\".join(formatted_interests)\n",
    "\n",
    "investment = 50000\n",
    "interest_rate = 0.198\n",
    "years = 30\n",
    "\n",
    "output = display_future_values(investment, interest_rate, years)\n",
    "    \n",
    "print(\"Welcome to the Future Value Calculator\\n\")\n",
    "print(output)"
   ]
  }
 ],
 "metadata": {
  "kernelspec": {
   "display_name": "Python 3",
   "language": "python",
   "name": "python3"
  },
  "language_info": {
   "codemirror_mode": {
    "name": "ipython",
    "version": 3
   },
   "file_extension": ".py",
   "mimetype": "text/x-python",
   "name": "python",
   "nbconvert_exporter": "python",
   "pygments_lexer": "ipython3",
   "version": "3.9.7"
  },
  "orig_nbformat": 4
 },
 "nbformat": 4,
 "nbformat_minor": 2
}
