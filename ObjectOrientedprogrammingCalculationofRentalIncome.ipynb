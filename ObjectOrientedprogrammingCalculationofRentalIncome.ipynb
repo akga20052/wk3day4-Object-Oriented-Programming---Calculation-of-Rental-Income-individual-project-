{
 "cells": [
  {
   "cell_type": "markdown",
   "metadata": {},
   "source": [
    "# RENTAL INCOME SHEET\n",
    "INCOME\n",
    "Rental Income- 2,000\n",
    "Laundry- 0.00\n",
    "Storage - 0.00\n",
    "Total Monthly Income- 1,200 \n",
    "\n",
    "\n",
    "EXPENSES\n",
    "Property tax- 100 (once a year)\n",
    "Property Insurance- 150 (once a year)\n",
    "Utilities\n",
    "-Water - 80.00 \n",
    "-Electric- 340.00\n",
    "-Garbage- 75.00 \n",
    "-Gas- 90.00\n",
    "HOA- 199.00\n",
    "Lawncare- 60.00\n",
    "Internet- 80\n",
    "Total Monthly Expenses = 1,174\n",
    "Total Annual Expeneses = 14,088\n",
    "\n",
    "\n",
    "CASH FLOW\n",
    "Income- 2,000\n",
    "Expense- 1,174\n",
    "Monthly Cash Flow- 2,000 - 1,174 = 826\n",
    "\n",
    "\n",
    "CASH ON CASH ROI\n",
    "Downpayment- 40,000\n",
    "Closing Cost- 3,000\n",
    "Rehab Budget- 7,000\n",
    "Misc. other- 0.00\n",
    "Total Investment- 50,000\n",
    "\n",
    "\n",
    "Annual Cash Flow \n",
    "826 X 12 = 9,912/ 50,000 (total investment)= 0.19824(19.8%) Cash on cash ROI "
   ]
  },
  {
   "cell_type": "code",
   "execution_count": 50,
   "metadata": {},
   "outputs": [
    {
     "name": "stdout",
     "output_type": "stream",
     "text": [
      "45.652\n"
     ]
    }
   ],
   "source": [
    "# Calcuating for a year (used the information above that I provided for you as in example)\n",
    "# you can change the numbers in this format to make it your own\n",
    "\n",
    "investment = 50000\n",
    "rent = 2000\n",
    "expense = 1174\n",
    "\n",
    "\n",
    "def ROI(investment, rent, expense):\n",
    "    NetProfit = rent * 12 - expense\n",
    "    ROI = (NetProfit/investment)*100\n",
    "    print(ROI)\n",
    "\n",
    "ROI(investment,rent, expense)\n"
   ]
  },
  {
   "cell_type": "code",
   "execution_count": 58,
   "metadata": {},
   "outputs": [
    {
     "name": "stdout",
     "output_type": "stream",
     "text": [
      "Welcome to the Future Value Calculator\n",
      "\n",
      "  0 50000.0   \n",
      "  1 1040000.0 \n",
      "  2 21632000.0\n",
      "  3 449945600.0\n",
      "  4 9358868480.0\n",
      "  5 194664464384.0\n",
      "  6 4049020859187.2\n",
      "  7 84219633871093.78\n",
      "  8 1751768384518750.8\n",
      "  9 3.643678239799002e+16\n",
      " 10 7.578850738781924e+17\n",
      " 11 1.57640095366664e+19\n",
      " 12 3.278913983626611e+20\n",
      " 13 6.820141085943352e+21\n",
      " 14 1.4185893458762173e+23\n",
      " 15 2.950665839422532e+24\n",
      " 16 6.137384945998867e+25\n",
      " 17 1.2765760687677644e+27\n",
      " 18 2.65527822303695e+28\n",
      " 19 5.5229787039168564e+29\n",
      " 20 1.148779570414706e+31\n",
      " 21 2.389461506462589e+32\n",
      " 22 4.970079933442185e+33\n",
      " 23 1.0337766261559746e+35\n",
      " 24 2.150255382404427e+36\n",
      " 25 4.472531195401209e+37\n",
      " 26 9.302864886434513e+38\n",
      " 27 1.934995896378379e+40\n",
      " 28 4.0247914644670285e+41\n",
      " 29 8.371566246091419e+42\n",
      " 30 1.7412857791870155e+44\n"
     ]
    }
   ],
   "source": [
    "# Calcuating for a 10 years (used the information above that I provided for you as in example)\n",
    "# you can change the numbers in this format to make it your own\n",
    "\n",
    "print(\"Welcome to the Future Value Calculator\")\n",
    "print()\n",
    "def formatInterest(t):\n",
    "    return \"{:>3} {:<10}\".format(t[0], round(t[1], 2))\n",
    "\n",
    "investment = 50000  \n",
    "interest = 19.8\n",
    "years = 30\n",
    "\n",
    "interest_list = [investment * (1 + interest) ** i for i in range(years + 1)]\n",
    "\n",
    "formatted_interests = map(formatInterest, enumerate(interest_list))\n",
    "\n",
    "print(\"\\n\".join(formatted_interests))"
   ]
  }
 ],
 "metadata": {
  "kernelspec": {
   "display_name": "Python 3",
   "language": "python",
   "name": "python3"
  },
  "language_info": {
   "codemirror_mode": {
    "name": "ipython",
    "version": 3
   },
   "file_extension": ".py",
   "mimetype": "text/x-python",
   "name": "python",
   "nbconvert_exporter": "python",
   "pygments_lexer": "ipython3",
   "version": "3.9.7"
  },
  "orig_nbformat": 4
 },
 "nbformat": 4,
 "nbformat_minor": 2
}
